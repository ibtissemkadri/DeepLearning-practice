{
 "cells": [
  {
   "cell_type": "markdown",
   "metadata": {},
   "source": [
    "# Hand written digits recognition with Convolutional Neural Network (Tensorflow)"
   ]
  },
  {
   "cell_type": "markdown",
   "metadata": {},
   "source": [
    "In this notebook we are going to build a Convolutional Neural Network model to recognize hand written digits using Tensorflow."
   ]
  },
  {
   "cell_type": "markdown",
   "metadata": {},
   "source": [
    "## Importing packages"
   ]
  },
  {
   "cell_type": "code",
   "execution_count": 1,
   "metadata": {},
   "outputs": [],
   "source": [
    "import numpy as np\n",
    "import matplotlib.pyplot as plt \n",
    "import tensorflow as tf\n",
    "from tensorflow.python.framework import ops\n",
    "%matplotlib inline"
   ]
  },
  {
   "cell_type": "markdown",
   "metadata": {},
   "source": [
    "## Loading data"
   ]
  },
  {
   "cell_type": "code",
   "execution_count": 2,
   "metadata": {},
   "outputs": [
    {
     "name": "stdout",
     "output_type": "stream",
     "text": [
      "Extracting data/train-images-idx3-ubyte.gz\n",
      "Extracting data/train-labels-idx1-ubyte.gz\n",
      "Extracting data/t10k-images-idx3-ubyte.gz\n",
      "Extracting data/t10k-labels-idx1-ubyte.gz\n"
     ]
    }
   ],
   "source": [
    "from tensorflow.examples.tutorials.mnist import input_data\n",
    "mnist = input_data.read_data_sets('data/', one_hot=True)"
   ]
  },
  {
   "cell_type": "markdown",
   "metadata": {},
   "source": [
    "The desired shape for our input layer is (m, 28, 28, 1)."
   ]
  },
  {
   "cell_type": "code",
   "execution_count": 3,
   "metadata": {},
   "outputs": [
    {
     "name": "stdout",
     "output_type": "stream",
     "text": [
      "X_train shape: (55000, 28, 28, 1)\n",
      "Y_train shape: (55000, 10)\n",
      "X_test shape: (10000, 28, 28, 1)\n",
      "Y_test shape: (10000, 10)\n"
     ]
    }
   ],
   "source": [
    "X_train = mnist.train.images.reshape(-1,28,28,1)\n",
    "Y_train = mnist.train.labels\n",
    "X_test = mnist.test.images.reshape(-1,28,28,1)\n",
    "Y_test = mnist.test.labels\n",
    "print('X_train shape: '+str(X_train.shape))\n",
    "print('Y_train shape: '+str(Y_train.shape))\n",
    "print('X_test shape: '+str(X_test.shape))\n",
    "print('Y_test shape: '+str(Y_test.shape))"
   ]
  },
  {
   "cell_type": "markdown",
   "metadata": {},
   "source": [
    "## Building the model"
   ]
  },
  {
   "cell_type": "markdown",
   "metadata": {},
   "source": [
    "We'll build a model to classify the images in the MNIST dataset using the following CNN architecture:\n",
    "\n",
    "1. Convolutional Layer #1: Applies 32 5x5 filters (extracting 5x5-pixel subregions) with \"same\" padding and applying ReLU activation function\n",
    "2. Pooling Layer #1: Performs max pooling with a 2x2 filter and stride of 2 (which specifies that pooled regions do not overlap)\n",
    "3. Convolutional Layer #2: Applies 64 5x5 filters with \"same\" padding and applying  ReLU activation function\n",
    "4. Pooling Layer #2: Again, performs max pooling with a 2x2 filter and stride of 2\n",
    "5. Dense Layer #1: 1,024 neurons, with dropout regularization rate of 0.4 (probability of 0.4 that any given element will be dropped during training)\n",
    "6. Dense Layer #2 (Logits Layer): 10 neurons, one for each digit target class (0–9).\n"
   ]
  },
  {
   "cell_type": "markdown",
   "metadata": {},
   "source": [
    "### Creating placeholders"
   ]
  },
  {
   "cell_type": "code",
   "execution_count": 4,
   "metadata": {},
   "outputs": [],
   "source": [
    "def create_placeholders(n_H0, n_W0, n_C0, n_y):\n",
    "    \"\"\"\n",
    "    Creates the placeholders for the tensorflow session.\n",
    "    \n",
    "    Arguments:\n",
    "    n_H0 -- scalar, height of an input image (28)\n",
    "    n_W0 -- scalar, width of an input image (28)\n",
    "    n_C0 -- scalar, number of channels of the input (1)\n",
    "    n_y -- scalar, number of classes (10)\n",
    "        \n",
    "    Returns:\n",
    "    X -- placeholder for the data input, of shape [None, n_H0, n_W0, n_C0] and dtype \"float\"\n",
    "    Y -- placeholder for the input labels, of shape [None, n_y] and dtype \"float\"\n",
    "    \"\"\"\n",
    "\n",
    "    X = tf.placeholder(tf.float32,[None, n_H0, n_W0, n_C0])\n",
    "    Y = tf.placeholder(tf.float32,[None, n_y])\n",
    "    \n",
    "    return X, Y"
   ]
  },
  {
   "cell_type": "markdown",
   "metadata": {},
   "source": [
    "### Initializing parameters"
   ]
  },
  {
   "cell_type": "markdown",
   "metadata": {},
   "source": [
    "We'll only initialize the weights for the conv2d functions. Tensorflow takes care of the bias and it initializes the layers for the fully connected parts (dense layers) automatically."
   ]
  },
  {
   "cell_type": "code",
   "execution_count": 5,
   "metadata": {},
   "outputs": [],
   "source": [
    "def initialize_parameters():\n",
    "    \"\"\"\n",
    "    Initializes weight parameters to build a neural network with tensorflow. The shapes are:\n",
    "                        W1 : [5, 5, 1, 32]\n",
    "                        W2 : [5, 5,32 , 64]\n",
    "    Returns:\n",
    "    parameters -- a dictionary of tensors containing W1, W2\n",
    "    \"\"\"\n",
    "    W1 = tf.get_variable('W1', [5, 5, 1, 32], initializer=tf.contrib.layers.xavier_initializer())\n",
    "    W2 = tf.get_variable('W2', [5, 5,32 , 64], initializer=tf.contrib.layers.xavier_initializer())\n",
    "    \n",
    "    parameters = {'W1':W1, 'W2':W2}\n",
    "    \n",
    "    return parameters\n",
    "    "
   ]
  },
  {
   "cell_type": "markdown",
   "metadata": {},
   "source": [
    "### Forward propagation"
   ]
  },
  {
   "cell_type": "code",
   "execution_count": 6,
   "metadata": {},
   "outputs": [],
   "source": [
    "def forward_propagation(X, parameters):\n",
    "    \"\"\"\n",
    "    Implements the forward propagation for the model:\n",
    "    CONV2D -> RELU -> MAXPOOL -> CONV2D -> RELU -> MAXPOOL -> FLATTEN -> FULLYCONNECTED -> FULLYCONNECTED\n",
    "    \n",
    "    Arguments:\n",
    "    X -- input dataset placeholder\n",
    "    parameters -- python dictionary containing your parameters \"W1\", \"W2\"\n",
    "                  the shapes are given in initialize_parameters\n",
    "\n",
    "    Returns:\n",
    "    Z3 -- the output of the last LINEAR unit\n",
    "    \"\"\"\n",
    "    W1 = parameters['W1']\n",
    "    W2 = parameters['W2']\n",
    "    \n",
    "    #conv2d\n",
    "    Z1 = tf.nn.conv2d(X, W1, strides=[1,1,1,1], padding='SAME')\n",
    "    #relu\n",
    "    A1 = tf.nn.relu(Z1)\n",
    "    #max pool\n",
    "    P1 = tf.nn.max_pool(A1, ksize=[1,2,2,1], strides=[1,2,2,1], padding='VALID')\n",
    "    #conv2d\n",
    "    Z2 = tf.nn.conv2d(P1, W2, strides=[1,1,1,1], padding='SAME')\n",
    "    #relu\n",
    "    A2 = tf.nn.relu(Z2)\n",
    "    #max pool\n",
    "    P2 = tf.nn.max_pool(A2, ksize=[1,2,2,1], strides=[1,2,2,1], padding='VALID')\n",
    "    #Flatten\n",
    "    P2 = tf.contrib.layers.flatten(P2)\n",
    "    #Fully connected layer\n",
    "    A3 = tf.contrib.layers.fully_connected(P2, num_outputs=1024, activation_fn=tf.nn.relu)\n",
    "    #Dropout\n",
    "    dropout = tf.layers.dropout(inputs=A3, rate=0.4)\n",
    "    # Fully connected without non-linear activation function\n",
    "    Z4 = tf.contrib.layers.fully_connected(P2, num_outputs=10, activation_fn=None)\n",
    "    \n",
    "    return Z4\n",
    "    "
   ]
  },
  {
   "cell_type": "markdown",
   "metadata": {},
   "source": [
    "### Computing the cost"
   ]
  },
  {
   "cell_type": "code",
   "execution_count": 7,
   "metadata": {},
   "outputs": [],
   "source": [
    "def compute_cost(Z4, Y):\n",
    "    \"\"\"\n",
    "    Computes the cost\n",
    "    \n",
    "    Arguments:\n",
    "    Z4 -- output of forward propagation (output of the last LINEAR unit)\n",
    "    Y -- \"true\" labels vector placeholder, same shape as Z3\n",
    "    \n",
    "    Returns:\n",
    "    cost - Tensor of the cost function\n",
    "    \"\"\"\n",
    "    \n",
    "    cost = tf.reduce_mean(tf.nn.softmax_cross_entropy_with_logits(logits=Z4, labels=Y))\n",
    "    \n",
    "    return cost"
   ]
  },
  {
   "cell_type": "markdown",
   "metadata": {},
   "source": [
    "### The model"
   ]
  },
  {
   "cell_type": "code",
   "execution_count": 16,
   "metadata": {},
   "outputs": [],
   "source": [
    "def model (X_train, Y_train, X_test, Y_test, learning_rate=0.001, num_epochs=4, minibatch_size=32, print_cost=True):\n",
    "    \"\"\"\n",
    "    Implements a three-layer ConvNet in Tensorflow:\n",
    "    CONV2D -> RELU -> MAXPOOL -> CONV2D -> RELU -> MAXPOOL -> FLATTEN -> FULLYCONNECTED -> FULLYCONNECTED\n",
    "    \n",
    "    Arguments:\n",
    "    X_train -- images of the training set\n",
    "    Y_train -- corresponding labels of the training set\n",
    "    X_test -- images of the test set\n",
    "    Y_test -- corresponding labels of the test set\n",
    "    learning_rate -- learning rate of the optimization\n",
    "    num_epochs -- number of epochs of the optimization loop\n",
    "    minibatch_size -- size of a minibatch\n",
    "    print_cost -- True to print the cost every 100 epochs\n",
    "    \n",
    "    Returns:\n",
    "    train_accuracy -- real number, accuracy on the train set (X_train)\n",
    "    test_accuracy -- real number, testing accuracy on the test set (X_test)\n",
    "    parameters -- parameters learnt by the model. They can then be used to predict.\n",
    "    \"\"\"\n",
    "    ops.reset_default_graph()\n",
    "    (m,n_H0,n_W0,n_C0) = X_train.shape\n",
    "    n_y = Y_train.shape[1]\n",
    "    num_minibatches = int(m/minibatch_size)\n",
    "    costs = []\n",
    "    \n",
    "    X,Y = create_placeholders(n_H0,n_W0,n_C0,n_y)\n",
    "    parameters = initialize_parameters()\n",
    "    \n",
    "    Z4 = forward_propagation(X, parameters)\n",
    "    \n",
    "    cost = compute_cost(Z4, Y)\n",
    "    optimizer = tf.train.AdamOptimizer(learning_rate=learning_rate).minimize(cost)\n",
    "    \n",
    "    init = tf.global_variables_initializer()\n",
    "    \n",
    "    with tf.Session() as sess:\n",
    "        sess.run(init)\n",
    "        for epoch in range(num_epochs):\n",
    "            epoch_cost = 0\n",
    "            for i in range(num_minibatches):\n",
    "                (minibatch_x, minibatch_y) = mnist.train.next_batch(minibatch_size)\n",
    "                _,minibatch_cost = sess.run([optimizer, cost], feed_dict={X:minibatch_x.reshape(-1,28,28,1), Y:minibatch_y})\n",
    "                epoch_cost= epoch_cost+(minibatch_cost/num_minibatches)\n",
    "            if print_cost==True:\n",
    "                print('cost after epoch %i: %f'%(epoch, epoch_cost))\n",
    "                costs.append(epoch_cost)\n",
    "        plt.plot(np.squeeze(costs))\n",
    "        plt.ylabel('cost')\n",
    "        plt.xlabel('iterations')\n",
    "        plt.title('learning rate = '+str(learning_rate))\n",
    "        plt.show\n",
    "        \n",
    "        sess.run(parameters) #save the parameters in a variable\n",
    "        print('parameters have been trained')\n",
    "        \n",
    "        \n",
    "        correct_predictions = tf.equal(tf.argmax(Z4,1), tf.argmax(Y,1))\n",
    "        accuracy = tf.reduce_mean(tf.cast(correct_predictions, \"float\"))\n",
    "        train_accuracy=0\n",
    "        test_accuracy=0\n",
    "        for i in range(num_minibatches):\n",
    "            (minibatch_x_train, minibatch_y_train) = mnist.train.next_batch(minibatch_size)\n",
    "            (minibatch_x_test, minibatch_y_test) = mnist.test.next_batch(minibatch_size)\n",
    "            train_accuracy += accuracy.eval({X: minibatch_x_train.reshape(-1,28,28,1), Y: minibatch_y_train})\n",
    "            test_accuracy += accuracy.eval({X: minibatch_x_test.reshape(-1,28,28,1), Y: minibatch_y_test})\n",
    "        \n",
    "        train_accuracy/=num_minibatches\n",
    "        test_accuracy/=num_minibatches\n",
    "        print(\"train accuracy: \", train_accuracy)\n",
    "        print(\"test accuracy: \", test_accuracy)\n",
    "    \n",
    "        return parameters"
   ]
  },
  {
   "cell_type": "code",
   "execution_count": 17,
   "metadata": {},
   "outputs": [
    {
     "name": "stdout",
     "output_type": "stream",
     "text": [
      "cost after epoch 0: 0.126873\n",
      "cost after epoch 1: 0.041325\n",
      "cost after epoch 2: 0.027630\n",
      "cost after epoch 3: 0.022178\n",
      "parameters have been trained\n",
      "train accuracy:  0.995579889406\n",
      "test accuracy:  0.990959691502\n"
     ]
    },
    {
     "data": {
      "image/png": "[encoded data removed]",
      "text/plain": [
       "<matplotlib.figure.Figure at 0x7fd5d8719630>"
      ]
     },
     "metadata": {},
     "output_type": "display_data"
    }
   ],
   "source": [
    "mnist_model = model(X_train, Y_train, X_test, Y_test)"
   ]
  },
  {
   "cell_type": "code",
   "execution_count": null,
   "metadata": {},
   "outputs": [],
   "source": []
  }
 ],
 "metadata": {
  "kernelspec": {
   "display_name": "Python 3",
   "language": "python",
   "name": "python3"
  },
  "language_info": {
   "codemirror_mode": {
    "name": "ipython",
    "version": 3
   },
   "file_extension": ".py",
   "mimetype": "text/x-python",
   "name": "python",
   "nbconvert_exporter": "python",
   "pygments_lexer": "ipython3",
   "version": "3.5.4"
  }
 },
 "nbformat": 4,
 "nbformat_minor": 2
}
